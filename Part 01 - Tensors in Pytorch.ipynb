{
 "cells": [
  {
   "cell_type": "markdown",
   "metadata": {},
   "source": [
    "# Pytorch\n",
    "\n",
    "- __`torch`__: a Tensor library like NumPy, with strong GPU support\n",
    "- __`torch.autograd`__: a tape based automatic differentiation library that supports all differentiable Tensor operations in torch\n",
    "- __`torch.nn`__: a neural networks library deeply integrated with autograd designed for maximum flexibility\n",
    "- __`torch.optim`__: an optimization package to be used with torch.nn with standard optimization methods such as SGD, RMSProp, LBFGS, Adam etc.\n",
    "- __`torch.multiprocessing`__: python multiprocessing, but with magical memory sharing of torch Tensors across processes. Useful for data loading and hogwild training.\n",
    "- __`torch.utils`__: DataLoader, Trainer and other utility functions for convenience\n",
    "- __`torch.legacy`(.nn/.optim)__: legacy code that has been ported over from torch for backward compatibility reasons\n"
   ]
  },
  {
   "cell_type": "code",
   "execution_count": 1,
   "metadata": {},
   "outputs": [],
   "source": [
    "import numpy as np\n",
    "import torch"
   ]
  },
  {
   "cell_type": "markdown",
   "metadata": {},
   "source": [
    "## Similarity of Numpy Array and Pytorch Tensor"
   ]
  },
  {
   "cell_type": "markdown",
   "metadata": {},
   "source": [
    "### numpy"
   ]
  },
  {
   "cell_type": "code",
   "execution_count": 2,
   "metadata": {},
   "outputs": [],
   "source": [
    "row_dim = 4\n",
    "col_dim = 5"
   ]
  },
  {
   "cell_type": "code",
   "execution_count": 3,
   "metadata": {},
   "outputs": [],
   "source": [
    "x = np.random.rand(row_dim, col_dim)"
   ]
  },
  {
   "cell_type": "code",
   "execution_count": 4,
   "metadata": {},
   "outputs": [
    {
     "name": "stdout",
     "output_type": "stream",
     "text": [
      "<class 'numpy.ndarray'>\n",
      "Shape of x: (4, 5)\n",
      "\n"
     ]
    },
    {
     "data": {
      "text/plain": [
       "array([[0.88460048, 0.96267488, 0.48854612, 0.56863165, 0.85378663],\n",
       "       [0.97602425, 0.29354704, 0.28666635, 0.32662137, 0.652663  ],\n",
       "       [0.58295181, 0.93856269, 0.89765355, 0.61254644, 0.71330168],\n",
       "       [0.67603373, 0.90321333, 0.54460977, 0.9179991 , 0.93296974]])"
      ]
     },
     "execution_count": 4,
     "metadata": {},
     "output_type": "execute_result"
    }
   ],
   "source": [
    "print(type(x))\n",
    "print(f'Shape of x: {x.shape}\\n')\n",
    "x"
   ]
  },
  {
   "cell_type": "code",
   "execution_count": 5,
   "metadata": {},
   "outputs": [
    {
     "data": {
      "text/plain": [
       "array([[1., 1., 1., 1., 1.],\n",
       "       [1., 1., 1., 1., 1.],\n",
       "       [1., 1., 1., 1., 1.],\n",
       "       [1., 1., 1., 1., 1.]])"
      ]
     },
     "execution_count": 5,
     "metadata": {},
     "output_type": "execute_result"
    }
   ],
   "source": [
    "ones_x = np.ones(x.shape)\n",
    "\n",
    "ones_x"
   ]
  },
  {
   "cell_type": "code",
   "execution_count": 6,
   "metadata": {},
   "outputs": [
    {
     "data": {
      "text/plain": [
       "array([[1.88460048, 1.96267488, 1.48854612, 1.56863165, 1.85378663],\n",
       "       [1.97602425, 1.29354704, 1.28666635, 1.32662137, 1.652663  ],\n",
       "       [1.58295181, 1.93856269, 1.89765355, 1.61254644, 1.71330168],\n",
       "       [1.67603373, 1.90321333, 1.54460977, 1.9179991 , 1.93296974]])"
      ]
     },
     "execution_count": 6,
     "metadata": {},
     "output_type": "execute_result"
    }
   ],
   "source": [
    "res_x = x + ones_x\n",
    "\n",
    "res_x"
   ]
  },
  {
   "cell_type": "code",
   "execution_count": 7,
   "metadata": {},
   "outputs": [
    {
     "data": {
      "text/plain": [
       "array([1.88460048, 1.96267488, 1.48854612, 1.56863165, 1.85378663])"
      ]
     },
     "execution_count": 7,
     "metadata": {},
     "output_type": "execute_result"
    }
   ],
   "source": [
    "res_x[0]"
   ]
  },
  {
   "cell_type": "code",
   "execution_count": 8,
   "metadata": {},
   "outputs": [
    {
     "data": {
      "text/plain": [
       "array([[1.48854612, 1.56863165],\n",
       "       [1.28666635, 1.32662137],\n",
       "       [1.89765355, 1.61254644],\n",
       "       [1.54460977, 1.9179991 ]])"
      ]
     },
     "execution_count": 8,
     "metadata": {},
     "output_type": "execute_result"
    }
   ],
   "source": [
    "res_x[:, 2:4]"
   ]
  },
  {
   "cell_type": "code",
   "execution_count": 9,
   "metadata": {},
   "outputs": [
    {
     "data": {
      "text/plain": [
       "array([[1.97602425, 1.29354704, 1.28666635, 1.32662137, 1.652663  ],\n",
       "       [1.58295181, 1.93856269, 1.89765355, 1.61254644, 1.71330168]])"
      ]
     },
     "execution_count": 9,
     "metadata": {},
     "output_type": "execute_result"
    }
   ],
   "source": [
    "res_x[1:3, :]"
   ]
  },
  {
   "cell_type": "code",
   "execution_count": null,
   "metadata": {},
   "outputs": [],
   "source": []
  },
  {
   "cell_type": "markdown",
   "metadata": {},
   "source": [
    "### pytorch"
   ]
  },
  {
   "cell_type": "code",
   "execution_count": 10,
   "metadata": {},
   "outputs": [],
   "source": [
    "y = torch.rand(row_dim, col_dim)"
   ]
  },
  {
   "cell_type": "code",
   "execution_count": 11,
   "metadata": {},
   "outputs": [
    {
     "name": "stdout",
     "output_type": "stream",
     "text": [
      "<class 'torch.Tensor'>\n",
      "Shape of y: torch.Size([4, 5])\n",
      "\n"
     ]
    },
    {
     "data": {
      "text/plain": [
       "tensor([[0.3190, 0.7024, 0.7576, 0.4048, 0.8386],\n",
       "        [0.3427, 0.7705, 0.4187, 0.7239, 0.3240],\n",
       "        [0.1501, 0.5568, 0.8509, 0.4983, 0.4110],\n",
       "        [0.2643, 0.4154, 0.3221, 0.3416, 0.2059]])"
      ]
     },
     "execution_count": 11,
     "metadata": {},
     "output_type": "execute_result"
    }
   ],
   "source": [
    "print(type(y))\n",
    "print(f'Shape of y: {y.shape}\\n')\n",
    "y"
   ]
  },
  {
   "cell_type": "code",
   "execution_count": 12,
   "metadata": {},
   "outputs": [
    {
     "data": {
      "text/plain": [
       "tensor([[1., 1., 1., 1., 1.],\n",
       "        [1., 1., 1., 1., 1.],\n",
       "        [1., 1., 1., 1., 1.],\n",
       "        [1., 1., 1., 1., 1.]])"
      ]
     },
     "execution_count": 12,
     "metadata": {},
     "output_type": "execute_result"
    }
   ],
   "source": [
    "ones_y = torch.ones(y.shape)\n",
    "\n",
    "ones_y"
   ]
  },
  {
   "cell_type": "code",
   "execution_count": 13,
   "metadata": {},
   "outputs": [
    {
     "data": {
      "text/plain": [
       "tensor([[1.3190, 1.7024, 1.7576, 1.4048, 1.8386],\n",
       "        [1.3427, 1.7705, 1.4187, 1.7239, 1.3240],\n",
       "        [1.1501, 1.5568, 1.8509, 1.4983, 1.4110],\n",
       "        [1.2643, 1.4154, 1.3221, 1.3416, 1.2059]])"
      ]
     },
     "execution_count": 13,
     "metadata": {},
     "output_type": "execute_result"
    }
   ],
   "source": [
    "res_y = y + ones_y\n",
    "\n",
    "res_y"
   ]
  },
  {
   "cell_type": "code",
   "execution_count": 14,
   "metadata": {},
   "outputs": [
    {
     "data": {
      "text/plain": [
       "tensor([1.3190, 1.7024, 1.7576, 1.4048, 1.8386])"
      ]
     },
     "execution_count": 14,
     "metadata": {},
     "output_type": "execute_result"
    }
   ],
   "source": [
    "res_y[0]"
   ]
  },
  {
   "cell_type": "code",
   "execution_count": 15,
   "metadata": {},
   "outputs": [
    {
     "data": {
      "text/plain": [
       "tensor([[1.7576, 1.4048],\n",
       "        [1.4187, 1.7239],\n",
       "        [1.8509, 1.4983],\n",
       "        [1.3221, 1.3416]])"
      ]
     },
     "execution_count": 15,
     "metadata": {},
     "output_type": "execute_result"
    }
   ],
   "source": [
    "res_y[:, 2:4]"
   ]
  },
  {
   "cell_type": "code",
   "execution_count": 16,
   "metadata": {},
   "outputs": [
    {
     "data": {
      "text/plain": [
       "tensor([[1.3427, 1.7705, 1.4187, 1.7239, 1.3240],\n",
       "        [1.1501, 1.5568, 1.8509, 1.4983, 1.4110]])"
      ]
     },
     "execution_count": 16,
     "metadata": {},
     "output_type": "execute_result"
    }
   ],
   "source": [
    "res_y[1:3, :]"
   ]
  },
  {
   "cell_type": "code",
   "execution_count": null,
   "metadata": {},
   "outputs": [],
   "source": []
  },
  {
   "cell_type": "markdown",
   "metadata": {},
   "source": [
    "## Special Functions\n",
    "\n",
    "In Pytorch almost every operation over tensor may change the tensor inpalce or return a new tensor. \n",
    "- the function with under-score after its name change the tensor inplace\n",
    "- the function without the underscore return new tensor"
   ]
  },
  {
   "cell_type": "code",
   "execution_count": 17,
   "metadata": {},
   "outputs": [
    {
     "data": {
      "text/plain": [
       "tensor([[2.3190, 2.7024, 2.7576, 2.4048, 2.8386],\n",
       "        [2.3427, 2.7705, 2.4187, 2.7239, 2.3240],\n",
       "        [2.1501, 2.5568, 2.8509, 2.4983, 2.4110],\n",
       "        [2.2643, 2.4154, 2.3221, 2.3416, 2.2059]])"
      ]
     },
     "execution_count": 17,
     "metadata": {},
     "output_type": "execute_result"
    }
   ],
   "source": [
    "res_y.add(1)                                     # return a new tensor"
   ]
  },
  {
   "cell_type": "code",
   "execution_count": 18,
   "metadata": {},
   "outputs": [
    {
     "data": {
      "text/plain": [
       "tensor([[1.3190, 1.7024, 1.7576, 1.4048, 1.8386],\n",
       "        [1.3427, 1.7705, 1.4187, 1.7239, 1.3240],\n",
       "        [1.1501, 1.5568, 1.8509, 1.4983, 1.4110],\n",
       "        [1.2643, 1.4154, 1.3221, 1.3416, 1.2059]])"
      ]
     },
     "execution_count": 18,
     "metadata": {},
     "output_type": "execute_result"
    }
   ],
   "source": [
    "res_y                                           # unchanged tensor"
   ]
  },
  {
   "cell_type": "code",
   "execution_count": 19,
   "metadata": {},
   "outputs": [
    {
     "data": {
      "text/plain": [
       "tensor([[2.3190, 2.7024, 2.7576, 2.4048, 2.8386],\n",
       "        [2.3427, 2.7705, 2.4187, 2.7239, 2.3240],\n",
       "        [2.1501, 2.5568, 2.8509, 2.4983, 2.4110],\n",
       "        [2.2643, 2.4154, 2.3221, 2.3416, 2.2059]])"
      ]
     },
     "execution_count": 19,
     "metadata": {},
     "output_type": "execute_result"
    }
   ],
   "source": [
    "res_y.add_(1)                                   # change the tensor inplace"
   ]
  },
  {
   "cell_type": "code",
   "execution_count": 20,
   "metadata": {},
   "outputs": [
    {
     "data": {
      "text/plain": [
       "tensor([[2.3190, 2.7024, 2.7576, 2.4048, 2.8386],\n",
       "        [2.3427, 2.7705, 2.4187, 2.7239, 2.3240],\n",
       "        [2.1501, 2.5568, 2.8509, 2.4983, 2.4110],\n",
       "        [2.2643, 2.4154, 2.3221, 2.3416, 2.2059]])"
      ]
     },
     "execution_count": 20,
     "metadata": {},
     "output_type": "execute_result"
    }
   ],
   "source": [
    "res_y                                          # changed tensor"
   ]
  },
  {
   "cell_type": "code",
   "execution_count": null,
   "metadata": {},
   "outputs": [],
   "source": []
  },
  {
   "cell_type": "markdown",
   "metadata": {},
   "source": [
    "## Reshaping or Resizing a Tensor"
   ]
  },
  {
   "cell_type": "code",
   "execution_count": 21,
   "metadata": {},
   "outputs": [],
   "source": [
    "new_row_dim = 5\n",
    "new_col_dim = 4"
   ]
  },
  {
   "cell_type": "code",
   "execution_count": 22,
   "metadata": {},
   "outputs": [
    {
     "data": {
      "text/plain": [
       "tensor([[2.3190, 2.7024, 2.7576, 2.4048],\n",
       "        [2.8386, 2.3427, 2.7705, 2.4187],\n",
       "        [2.7239, 2.3240, 2.1501, 2.5568],\n",
       "        [2.8509, 2.4983, 2.4110, 2.2643],\n",
       "        [2.4154, 2.3221, 2.3416, 2.2059]])"
      ]
     },
     "execution_count": 22,
     "metadata": {},
     "output_type": "execute_result"
    }
   ],
   "source": [
    "res_y.reshape(new_row_dim, new_col_dim)            # return a new tensor after resize/reshape"
   ]
  },
  {
   "cell_type": "code",
   "execution_count": 23,
   "metadata": {},
   "outputs": [
    {
     "data": {
      "text/plain": [
       "tensor([[2.3190, 2.7024, 2.7576, 2.4048, 2.8386],\n",
       "        [2.3427, 2.7705, 2.4187, 2.7239, 2.3240],\n",
       "        [2.1501, 2.5568, 2.8509, 2.4983, 2.4110],\n",
       "        [2.2643, 2.4154, 2.3221, 2.3416, 2.2059]])"
      ]
     },
     "execution_count": 23,
     "metadata": {},
     "output_type": "execute_result"
    }
   ],
   "source": [
    "res_y                                             # original tensor is unchanged"
   ]
  },
  {
   "cell_type": "code",
   "execution_count": 24,
   "metadata": {},
   "outputs": [
    {
     "data": {
      "text/plain": [
       "tensor([[2.3190, 2.7024, 2.7576, 2.4048],\n",
       "        [2.8386, 2.3427, 2.7705, 2.4187],\n",
       "        [2.7239, 2.3240, 2.1501, 2.5568],\n",
       "        [2.8509, 2.4983, 2.4110, 2.2643],\n",
       "        [2.4154, 2.3221, 2.3416, 2.2059]])"
      ]
     },
     "execution_count": 24,
     "metadata": {},
     "output_type": "execute_result"
    }
   ],
   "source": [
    "res_y.resize_(new_row_dim, new_col_dim)           # change original tensor inpace"
   ]
  },
  {
   "cell_type": "code",
   "execution_count": 25,
   "metadata": {},
   "outputs": [
    {
     "data": {
      "text/plain": [
       "tensor([[2.3190, 2.7024, 2.7576, 2.4048],\n",
       "        [2.8386, 2.3427, 2.7705, 2.4187],\n",
       "        [2.7239, 2.3240, 2.1501, 2.5568],\n",
       "        [2.8509, 2.4983, 2.4110, 2.2643],\n",
       "        [2.4154, 2.3221, 2.3416, 2.2059]])"
      ]
     },
     "execution_count": 25,
     "metadata": {},
     "output_type": "execute_result"
    }
   ],
   "source": [
    "res_y                                             # changed original tensor"
   ]
  },
  {
   "cell_type": "code",
   "execution_count": null,
   "metadata": {},
   "outputs": [],
   "source": []
  },
  {
   "cell_type": "markdown",
   "metadata": {},
   "source": [
    "## Array -> Tensor [vice-versa]"
   ]
  },
  {
   "cell_type": "code",
   "execution_count": 26,
   "metadata": {},
   "outputs": [
    {
     "data": {
      "text/plain": [
       "tensor([[1.8846, 1.9627, 1.4885, 1.5686, 1.8538],\n",
       "        [1.9760, 1.2935, 1.2867, 1.3266, 1.6527],\n",
       "        [1.5830, 1.9386, 1.8977, 1.6125, 1.7133],\n",
       "        [1.6760, 1.9032, 1.5446, 1.9180, 1.9330]], dtype=torch.float64)"
      ]
     },
     "execution_count": 26,
     "metadata": {},
     "output_type": "execute_result"
    }
   ],
   "source": [
    "res_x_tensor = torch.from_numpy(res_x)\n",
    "res_x_tensor"
   ]
  },
  {
   "cell_type": "code",
   "execution_count": 27,
   "metadata": {},
   "outputs": [
    {
     "data": {
      "text/plain": [
       "array([[2.3190475, 2.7023697, 2.7575743, 2.4048216],\n",
       "       [2.8385577, 2.3427489, 2.7705302, 2.4186542],\n",
       "       [2.7238803, 2.3240047, 2.1501138, 2.5567734],\n",
       "       [2.8508897, 2.498326 , 2.4109871, 2.2643135],\n",
       "       [2.4154303, 2.3220742, 2.3415706, 2.2059016]], dtype=float32)"
      ]
     },
     "execution_count": 27,
     "metadata": {},
     "output_type": "execute_result"
    }
   ],
   "source": [
    "res_y_array = res_y.numpy()\n",
    "res_y_array"
   ]
  },
  {
   "cell_type": "code",
   "execution_count": null,
   "metadata": {},
   "outputs": [],
   "source": []
  },
  {
   "cell_type": "markdown",
   "metadata": {},
   "source": [
    "## Caveat\n",
    "\n",
    "pytorch tensor from numpy array (or other way) they share same memory location, so mutation in one make other one mutated."
   ]
  },
  {
   "cell_type": "code",
   "execution_count": 28,
   "metadata": {},
   "outputs": [
    {
     "data": {
      "text/plain": [
       "array([[1., 1., 1., 1., 1.],\n",
       "       [1., 1., 1., 1., 1.],\n",
       "       [1., 1., 1., 1., 1.],\n",
       "       [1., 1., 1., 1., 1.],\n",
       "       [1., 1., 1., 1., 1.]])"
      ]
     },
     "execution_count": 28,
     "metadata": {},
     "output_type": "execute_result"
    }
   ],
   "source": [
    "a = np.ones([5,5])\n",
    "a"
   ]
  },
  {
   "cell_type": "code",
   "execution_count": 29,
   "metadata": {},
   "outputs": [
    {
     "data": {
      "text/plain": [
       "tensor([[1., 1., 1., 1., 1.],\n",
       "        [1., 1., 1., 1., 1.],\n",
       "        [1., 1., 1., 1., 1.],\n",
       "        [1., 1., 1., 1., 1.],\n",
       "        [1., 1., 1., 1., 1.]], dtype=torch.float64)"
      ]
     },
     "execution_count": 29,
     "metadata": {},
     "output_type": "execute_result"
    }
   ],
   "source": [
    "b = torch.from_numpy(a)\n",
    "b"
   ]
  },
  {
   "cell_type": "code",
   "execution_count": 30,
   "metadata": {},
   "outputs": [],
   "source": [
    "a[2][3] = 1000"
   ]
  },
  {
   "cell_type": "code",
   "execution_count": 31,
   "metadata": {},
   "outputs": [
    {
     "data": {
      "text/plain": [
       "array([[   1.,    1.,    1.,    1.,    1.],\n",
       "       [   1.,    1.,    1.,    1.,    1.],\n",
       "       [   1.,    1.,    1., 1000.,    1.],\n",
       "       [   1.,    1.,    1.,    1.,    1.],\n",
       "       [   1.,    1.,    1.,    1.,    1.]])"
      ]
     },
     "execution_count": 31,
     "metadata": {},
     "output_type": "execute_result"
    }
   ],
   "source": [
    "a"
   ]
  },
  {
   "cell_type": "code",
   "execution_count": 32,
   "metadata": {},
   "outputs": [
    {
     "data": {
      "text/plain": [
       "tensor([[   1.,    1.,    1.,    1.,    1.],\n",
       "        [   1.,    1.,    1.,    1.,    1.],\n",
       "        [   1.,    1.,    1., 1000.,    1.],\n",
       "        [   1.,    1.,    1.,    1.,    1.],\n",
       "        [   1.,    1.,    1.,    1.,    1.]], dtype=torch.float64)"
      ]
     },
     "execution_count": 32,
     "metadata": {},
     "output_type": "execute_result"
    }
   ],
   "source": [
    "b"
   ]
  },
  {
   "cell_type": "code",
   "execution_count": null,
   "metadata": {},
   "outputs": [],
   "source": []
  }
 ],
 "metadata": {
  "kernelspec": {
   "display_name": "Python 3",
   "language": "python",
   "name": "python3"
  },
  "language_info": {
   "codemirror_mode": {
    "name": "ipython",
    "version": 3
   },
   "file_extension": ".py",
   "mimetype": "text/x-python",
   "name": "python",
   "nbconvert_exporter": "python",
   "pygments_lexer": "ipython3",
   "version": "3.6.6"
  }
 },
 "nbformat": 4,
 "nbformat_minor": 2
}
