{
 "cells": [
  {
   "cell_type": "markdown",
   "metadata": {},
   "source": [
    "# Pytorch\n",
    "\n",
    "- __`torch`__: a Tensor library like NumPy, with strong GPU support\n",
    "- __`torch.autograd`__: a tape based automatic differentiation library that supports all differentiable Tensor operations in torch\n",
    "- __`torch.nn`__: a neural networks library deeply integrated with autograd designed for maximum flexibility\n",
    "- __`torch.optim`__: an optimization package to be used with torch.nn with standard optimization methods such as SGD, RMSProp, LBFGS, Adam etc.\n",
    "- __`torch.multiprocessing`__: python multiprocessing, but with magical memory sharing of torch Tensors across processes. Useful for data loading and hogwild training.\n",
    "- __`torch.utils`__: DataLoader, Trainer and other utility functions for convenience\n",
    "- __`torch.legacy`(.nn/.optim)__: legacy code that has been ported over from torch for backward compatibility reasons\n"
   ]
  },
  {
   "cell_type": "code",
   "execution_count": 1,
   "metadata": {},
   "outputs": [],
   "source": [
    "import numpy as np\n",
    "import torch"
   ]
  },
  {
   "cell_type": "markdown",
   "metadata": {},
   "source": [
    "## Similarity of Numpy Array and Pytorch Tensor"
   ]
  },
  {
   "cell_type": "markdown",
   "metadata": {},
   "source": [
    "### numpy"
   ]
  },
  {
   "cell_type": "code",
   "execution_count": 2,
   "metadata": {},
   "outputs": [],
   "source": [
    "row_dim = 4\n",
    "col_dim = 5"
   ]
  },
  {
   "cell_type": "code",
   "execution_count": 3,
   "metadata": {},
   "outputs": [],
   "source": [
    "x = np.random.rand(row_dim, col_dim)"
   ]
  },
  {
   "cell_type": "code",
   "execution_count": 29,
   "metadata": {},
   "outputs": [
    {
     "name": "stdout",
     "output_type": "stream",
     "text": [
      "<class 'numpy.ndarray'>\n",
      "Shape of x: (4, 5)\n",
      "\n"
     ]
    },
    {
     "data": {
      "text/plain": [
       "array([[0.40251969, 0.01048708, 0.38562073, 0.54968105, 0.43163407],\n",
       "       [0.21678273, 0.51899483, 0.29273886, 0.28672503, 0.70498801],\n",
       "       [0.24473728, 0.67390052, 0.12382299, 0.34588224, 0.0736415 ],\n",
       "       [0.4669683 , 0.01719792, 0.55787204, 0.23925945, 0.46101518]])"
      ]
     },
     "execution_count": 29,
     "metadata": {},
     "output_type": "execute_result"
    }
   ],
   "source": [
    "print(type(x))\n",
    "print(f'Shape of x: {x.shape}\\n')\n",
    "x"
   ]
  },
  {
   "cell_type": "code",
   "execution_count": 28,
   "metadata": {},
   "outputs": [
    {
     "data": {
      "text/plain": [
       "array([[1., 1., 1., 1., 1.],\n",
       "       [1., 1., 1., 1., 1.],\n",
       "       [1., 1., 1., 1., 1.],\n",
       "       [1., 1., 1., 1., 1.]])"
      ]
     },
     "execution_count": 28,
     "metadata": {},
     "output_type": "execute_result"
    }
   ],
   "source": [
    "ones_x = np.ones(x.shape)\n",
    "\n",
    "ones_x"
   ]
  },
  {
   "cell_type": "code",
   "execution_count": 30,
   "metadata": {},
   "outputs": [
    {
     "data": {
      "text/plain": [
       "array([[1.40251969, 1.01048708, 1.38562073, 1.54968105, 1.43163407],\n",
       "       [1.21678273, 1.51899483, 1.29273886, 1.28672503, 1.70498801],\n",
       "       [1.24473728, 1.67390052, 1.12382299, 1.34588224, 1.0736415 ],\n",
       "       [1.4669683 , 1.01719792, 1.55787204, 1.23925945, 1.46101518]])"
      ]
     },
     "execution_count": 30,
     "metadata": {},
     "output_type": "execute_result"
    }
   ],
   "source": [
    "res_x = x + ones_x\n",
    "\n",
    "res_x"
   ]
  },
  {
   "cell_type": "code",
   "execution_count": 7,
   "metadata": {},
   "outputs": [
    {
     "data": {
      "text/plain": [
       "array([1.40251969, 1.01048708, 1.38562073, 1.54968105, 1.43163407])"
      ]
     },
     "execution_count": 7,
     "metadata": {},
     "output_type": "execute_result"
    }
   ],
   "source": [
    "res_x[0]"
   ]
  },
  {
   "cell_type": "code",
   "execution_count": 8,
   "metadata": {},
   "outputs": [
    {
     "data": {
      "text/plain": [
       "array([[1.38562073, 1.54968105],\n",
       "       [1.29273886, 1.28672503],\n",
       "       [1.12382299, 1.34588224],\n",
       "       [1.55787204, 1.23925945]])"
      ]
     },
     "execution_count": 8,
     "metadata": {},
     "output_type": "execute_result"
    }
   ],
   "source": [
    "res_x[:, 2:4]"
   ]
  },
  {
   "cell_type": "code",
   "execution_count": 9,
   "metadata": {},
   "outputs": [
    {
     "data": {
      "text/plain": [
       "array([[1.21678273, 1.51899483, 1.29273886, 1.28672503, 1.70498801],\n",
       "       [1.24473728, 1.67390052, 1.12382299, 1.34588224, 1.0736415 ]])"
      ]
     },
     "execution_count": 9,
     "metadata": {},
     "output_type": "execute_result"
    }
   ],
   "source": [
    "res_x[1:3, :]"
   ]
  },
  {
   "cell_type": "code",
   "execution_count": null,
   "metadata": {},
   "outputs": [],
   "source": []
  },
  {
   "cell_type": "markdown",
   "metadata": {},
   "source": [
    "### pytorch"
   ]
  },
  {
   "cell_type": "code",
   "execution_count": 10,
   "metadata": {},
   "outputs": [],
   "source": [
    "y = torch.rand(row_dim, col_dim)"
   ]
  },
  {
   "cell_type": "code",
   "execution_count": 31,
   "metadata": {},
   "outputs": [
    {
     "name": "stdout",
     "output_type": "stream",
     "text": [
      "<class 'torch.Tensor'>\n",
      "Shape of y: torch.Size([4, 5])\n",
      "\n"
     ]
    },
    {
     "data": {
      "text/plain": [
       "tensor([[0.2439, 0.6108, 0.9166, 0.6872, 0.0903],\n",
       "        [0.1324, 0.4699, 0.7792, 0.2792, 0.2369],\n",
       "        [0.6820, 0.9757, 0.1131, 0.2465, 0.9557],\n",
       "        [0.6996, 0.7817, 0.7439, 0.0369, 0.6367]])"
      ]
     },
     "execution_count": 31,
     "metadata": {},
     "output_type": "execute_result"
    }
   ],
   "source": [
    "print(type(y))\n",
    "print(f'Shape of y: {y.shape}\\n')\n",
    "y"
   ]
  },
  {
   "cell_type": "code",
   "execution_count": 32,
   "metadata": {},
   "outputs": [
    {
     "data": {
      "text/plain": [
       "tensor([[1., 1., 1., 1., 1.],\n",
       "        [1., 1., 1., 1., 1.],\n",
       "        [1., 1., 1., 1., 1.],\n",
       "        [1., 1., 1., 1., 1.]])"
      ]
     },
     "execution_count": 32,
     "metadata": {},
     "output_type": "execute_result"
    }
   ],
   "source": [
    "ones_y = torch.ones(y.shape)\n",
    "\n",
    "ones_y"
   ]
  },
  {
   "cell_type": "code",
   "execution_count": 33,
   "metadata": {},
   "outputs": [
    {
     "data": {
      "text/plain": [
       "tensor([[1.2439, 1.6108, 1.9166, 1.6872, 1.0903],\n",
       "        [1.1324, 1.4699, 1.7792, 1.2792, 1.2369],\n",
       "        [1.6820, 1.9757, 1.1131, 1.2465, 1.9557],\n",
       "        [1.6996, 1.7817, 1.7439, 1.0369, 1.6367]])"
      ]
     },
     "execution_count": 33,
     "metadata": {},
     "output_type": "execute_result"
    }
   ],
   "source": [
    "res_y = y + ones_y\n",
    "\n",
    "res_y"
   ]
  },
  {
   "cell_type": "code",
   "execution_count": 14,
   "metadata": {},
   "outputs": [
    {
     "data": {
      "text/plain": [
       "tensor([1.2439, 1.6108, 1.9166, 1.6872, 1.0903])"
      ]
     },
     "execution_count": 14,
     "metadata": {},
     "output_type": "execute_result"
    }
   ],
   "source": [
    "res_y[0]"
   ]
  },
  {
   "cell_type": "code",
   "execution_count": 15,
   "metadata": {},
   "outputs": [
    {
     "data": {
      "text/plain": [
       "tensor([[1.9166, 1.6872],\n",
       "        [1.7792, 1.2792],\n",
       "        [1.1131, 1.2465],\n",
       "        [1.7439, 1.0369]])"
      ]
     },
     "execution_count": 15,
     "metadata": {},
     "output_type": "execute_result"
    }
   ],
   "source": [
    "res_y[:, 2:4]"
   ]
  },
  {
   "cell_type": "code",
   "execution_count": 16,
   "metadata": {},
   "outputs": [
    {
     "data": {
      "text/plain": [
       "tensor([[1.1324, 1.4699, 1.7792, 1.2792, 1.2369],\n",
       "        [1.6820, 1.9757, 1.1131, 1.2465, 1.9557]])"
      ]
     },
     "execution_count": 16,
     "metadata": {},
     "output_type": "execute_result"
    }
   ],
   "source": [
    "res_y[1:3, :]"
   ]
  },
  {
   "cell_type": "code",
   "execution_count": null,
   "metadata": {},
   "outputs": [],
   "source": []
  },
  {
   "cell_type": "markdown",
   "metadata": {},
   "source": [
    "## Special Functions\n",
    "\n",
    "In Pytorch almost every operation over tensor may change the tensor inpalce or return a new tensor. \n",
    "- the function with under-score after its name change the tensor inplace\n",
    "- the function without the underscore return new tensor"
   ]
  },
  {
   "cell_type": "code",
   "execution_count": 17,
   "metadata": {},
   "outputs": [
    {
     "data": {
      "text/plain": [
       "tensor([[2.2439, 2.6108, 2.9166, 2.6872, 2.0903],\n",
       "        [2.1324, 2.4699, 2.7792, 2.2792, 2.2369],\n",
       "        [2.6820, 2.9757, 2.1131, 2.2465, 2.9557],\n",
       "        [2.6996, 2.7817, 2.7439, 2.0369, 2.6367]])"
      ]
     },
     "execution_count": 17,
     "metadata": {},
     "output_type": "execute_result"
    }
   ],
   "source": [
    "res_y.add(1)                                     # return a new tensor"
   ]
  },
  {
   "cell_type": "code",
   "execution_count": 18,
   "metadata": {},
   "outputs": [
    {
     "data": {
      "text/plain": [
       "tensor([[1.2439, 1.6108, 1.9166, 1.6872, 1.0903],\n",
       "        [1.1324, 1.4699, 1.7792, 1.2792, 1.2369],\n",
       "        [1.6820, 1.9757, 1.1131, 1.2465, 1.9557],\n",
       "        [1.6996, 1.7817, 1.7439, 1.0369, 1.6367]])"
      ]
     },
     "execution_count": 18,
     "metadata": {},
     "output_type": "execute_result"
    }
   ],
   "source": [
    "res_y                                           # unchanged tensor"
   ]
  },
  {
   "cell_type": "code",
   "execution_count": 19,
   "metadata": {},
   "outputs": [
    {
     "data": {
      "text/plain": [
       "tensor([[2.2439, 2.6108, 2.9166, 2.6872, 2.0903],\n",
       "        [2.1324, 2.4699, 2.7792, 2.2792, 2.2369],\n",
       "        [2.6820, 2.9757, 2.1131, 2.2465, 2.9557],\n",
       "        [2.6996, 2.7817, 2.7439, 2.0369, 2.6367]])"
      ]
     },
     "execution_count": 19,
     "metadata": {},
     "output_type": "execute_result"
    }
   ],
   "source": [
    "res_y.add_(1)                                   # change the tensor inplace"
   ]
  },
  {
   "cell_type": "code",
   "execution_count": 20,
   "metadata": {},
   "outputs": [
    {
     "data": {
      "text/plain": [
       "tensor([[2.2439, 2.6108, 2.9166, 2.6872, 2.0903],\n",
       "        [2.1324, 2.4699, 2.7792, 2.2792, 2.2369],\n",
       "        [2.6820, 2.9757, 2.1131, 2.2465, 2.9557],\n",
       "        [2.6996, 2.7817, 2.7439, 2.0369, 2.6367]])"
      ]
     },
     "execution_count": 20,
     "metadata": {},
     "output_type": "execute_result"
    }
   ],
   "source": [
    "res_y                                          # changed tensor"
   ]
  },
  {
   "cell_type": "code",
   "execution_count": null,
   "metadata": {},
   "outputs": [],
   "source": []
  },
  {
   "cell_type": "markdown",
   "metadata": {},
   "source": [
    "## Reshaping or Resizing a Tensor"
   ]
  },
  {
   "cell_type": "code",
   "execution_count": 21,
   "metadata": {},
   "outputs": [],
   "source": [
    "new_row_dim = 5\n",
    "new_col_dim = 4"
   ]
  },
  {
   "cell_type": "code",
   "execution_count": 22,
   "metadata": {},
   "outputs": [
    {
     "data": {
      "text/plain": [
       "tensor([[2.2439, 2.6108, 2.9166, 2.6872],\n",
       "        [2.0903, 2.1324, 2.4699, 2.7792],\n",
       "        [2.2792, 2.2369, 2.6820, 2.9757],\n",
       "        [2.1131, 2.2465, 2.9557, 2.6996],\n",
       "        [2.7817, 2.7439, 2.0369, 2.6367]])"
      ]
     },
     "execution_count": 22,
     "metadata": {},
     "output_type": "execute_result"
    }
   ],
   "source": [
    "res_y.reshape(new_row_dim, new_col_dim)            # return a new tensor after resize/reshape"
   ]
  },
  {
   "cell_type": "code",
   "execution_count": 23,
   "metadata": {},
   "outputs": [
    {
     "data": {
      "text/plain": [
       "tensor([[2.2439, 2.6108, 2.9166, 2.6872, 2.0903],\n",
       "        [2.1324, 2.4699, 2.7792, 2.2792, 2.2369],\n",
       "        [2.6820, 2.9757, 2.1131, 2.2465, 2.9557],\n",
       "        [2.6996, 2.7817, 2.7439, 2.0369, 2.6367]])"
      ]
     },
     "execution_count": 23,
     "metadata": {},
     "output_type": "execute_result"
    }
   ],
   "source": [
    "res_y                                             # original tensor is unchanged"
   ]
  },
  {
   "cell_type": "code",
   "execution_count": 24,
   "metadata": {},
   "outputs": [
    {
     "data": {
      "text/plain": [
       "tensor([[2.2439, 2.6108, 2.9166, 2.6872],\n",
       "        [2.0903, 2.1324, 2.4699, 2.7792],\n",
       "        [2.2792, 2.2369, 2.6820, 2.9757],\n",
       "        [2.1131, 2.2465, 2.9557, 2.6996],\n",
       "        [2.7817, 2.7439, 2.0369, 2.6367]])"
      ]
     },
     "execution_count": 24,
     "metadata": {},
     "output_type": "execute_result"
    }
   ],
   "source": [
    "res_y.resize_(new_row_dim, new_col_dim)           # change original tensor inpace"
   ]
  },
  {
   "cell_type": "code",
   "execution_count": 25,
   "metadata": {},
   "outputs": [
    {
     "data": {
      "text/plain": [
       "tensor([[2.2439, 2.6108, 2.9166, 2.6872],\n",
       "        [2.0903, 2.1324, 2.4699, 2.7792],\n",
       "        [2.2792, 2.2369, 2.6820, 2.9757],\n",
       "        [2.1131, 2.2465, 2.9557, 2.6996],\n",
       "        [2.7817, 2.7439, 2.0369, 2.6367]])"
      ]
     },
     "execution_count": 25,
     "metadata": {},
     "output_type": "execute_result"
    }
   ],
   "source": [
    "res_y                                             # changed original tensor"
   ]
  },
  {
   "cell_type": "code",
   "execution_count": null,
   "metadata": {},
   "outputs": [],
   "source": []
  },
  {
   "cell_type": "markdown",
   "metadata": {},
   "source": [
    "### Array -> Tensor [vice-varsa]"
   ]
  },
  {
   "cell_type": "code",
   "execution_count": 36,
   "metadata": {},
   "outputs": [
    {
     "data": {
      "text/plain": [
       "tensor([[1.4025, 1.0105, 1.3856, 1.5497, 1.4316],\n",
       "        [1.2168, 1.5190, 1.2927, 1.2867, 1.7050],\n",
       "        [1.2447, 1.6739, 1.1238, 1.3459, 1.0736],\n",
       "        [1.4670, 1.0172, 1.5579, 1.2393, 1.4610]], dtype=torch.float64)"
      ]
     },
     "execution_count": 36,
     "metadata": {},
     "output_type": "execute_result"
    }
   ],
   "source": [
    "res_x_tensor = torch.from_numpy(res_x)\n",
    "res_x_tensor"
   ]
  },
  {
   "cell_type": "code",
   "execution_count": 37,
   "metadata": {},
   "outputs": [
    {
     "data": {
      "text/plain": [
       "array([[1.2438979, 1.6108166, 1.9165854, 1.6871909, 1.0902975],\n",
       "       [1.1324437, 1.4699122, 1.7792162, 1.2791739, 1.2368637],\n",
       "       [1.6819726, 1.9757427, 1.1131365, 1.2464612, 1.9557165],\n",
       "       [1.6996467, 1.7817107, 1.743863 , 1.0369191, 1.6366928]],\n",
       "      dtype=float32)"
      ]
     },
     "execution_count": 37,
     "metadata": {},
     "output_type": "execute_result"
    }
   ],
   "source": [
    "res_y_array = res_y.numpy()\n",
    "res_y_array"
   ]
  },
  {
   "cell_type": "code",
   "execution_count": 34,
   "metadata": {},
   "outputs": [],
   "source": []
  },
  {
   "cell_type": "markdown",
   "metadata": {},
   "source": [
    "### Caveat"
   ]
  },
  {
   "cell_type": "code",
   "execution_count": 46,
   "metadata": {},
   "outputs": [
    {
     "data": {
      "text/plain": [
       "array([[3, 3, 3, 3, 3],\n",
       "       [3, 3, 3, 3, 3],\n",
       "       [3, 3, 3, 3, 3],\n",
       "       [3, 3, 3, 3, 3],\n",
       "       [3, 3, 3, 3, 3]])"
      ]
     },
     "execution_count": 46,
     "metadata": {},
     "output_type": "execute_result"
    }
   ],
   "source": [
    "a = np.random.randint(3,4,(5,5))\n",
    "a"
   ]
  },
  {
   "cell_type": "code",
   "execution_count": 47,
   "metadata": {},
   "outputs": [
    {
     "data": {
      "text/plain": [
       "tensor([[3, 3, 3, 3, 3],\n",
       "        [3, 3, 3, 3, 3],\n",
       "        [3, 3, 3, 3, 3],\n",
       "        [3, 3, 3, 3, 3],\n",
       "        [3, 3, 3, 3, 3]])"
      ]
     },
     "execution_count": 47,
     "metadata": {},
     "output_type": "execute_result"
    }
   ],
   "source": [
    "b = torch.from_numpy(a)\n",
    "b"
   ]
  },
  {
   "cell_type": "code",
   "execution_count": 48,
   "metadata": {},
   "outputs": [],
   "source": [
    "a[2][3] = 1"
   ]
  },
  {
   "cell_type": "code",
   "execution_count": 49,
   "metadata": {},
   "outputs": [
    {
     "data": {
      "text/plain": [
       "array([[3, 3, 3, 3, 3],\n",
       "       [3, 3, 3, 3, 3],\n",
       "       [3, 3, 3, 1, 3],\n",
       "       [3, 3, 3, 3, 3],\n",
       "       [3, 3, 3, 3, 3]])"
      ]
     },
     "execution_count": 49,
     "metadata": {},
     "output_type": "execute_result"
    }
   ],
   "source": [
    "a"
   ]
  },
  {
   "cell_type": "code",
   "execution_count": 50,
   "metadata": {},
   "outputs": [
    {
     "data": {
      "text/plain": [
       "tensor([[3, 3, 3, 3, 3],\n",
       "        [3, 3, 3, 3, 3],\n",
       "        [3, 3, 3, 1, 3],\n",
       "        [3, 3, 3, 3, 3],\n",
       "        [3, 3, 3, 3, 3]])"
      ]
     },
     "execution_count": 50,
     "metadata": {},
     "output_type": "execute_result"
    }
   ],
   "source": [
    "b"
   ]
  },
  {
   "cell_type": "code",
   "execution_count": null,
   "metadata": {},
   "outputs": [],
   "source": []
  }
 ],
 "metadata": {
  "kernelspec": {
   "display_name": "Python 3",
   "language": "python",
   "name": "python3"
  },
  "language_info": {
   "codemirror_mode": {
    "name": "ipython",
    "version": 3
   },
   "file_extension": ".py",
   "mimetype": "text/x-python",
   "name": "python",
   "nbconvert_exporter": "python",
   "pygments_lexer": "ipython3",
   "version": "3.6.6"
  }
 },
 "nbformat": 4,
 "nbformat_minor": 2
}
